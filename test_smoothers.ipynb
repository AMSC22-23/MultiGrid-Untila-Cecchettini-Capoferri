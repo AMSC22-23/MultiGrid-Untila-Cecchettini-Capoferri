{
 "cells": [
  {
   "cell_type": "code",
   "execution_count": 67,
   "metadata": {},
   "outputs": [],
   "source": [
    "import matplotlib.pyplot as plt\n",
    "import matplotlib.animation as animation\n",
    "from math import *\n",
    "import numpy as np"
   ]
  },
  {
   "cell_type": "markdown",
   "metadata": {},
   "source": [
    "We can now define some useful functions"
   ]
  },
  {
   "cell_type": "code",
   "execution_count": null,
   "metadata": {},
   "outputs": [],
   "source": [
    "def prod(A,b):\n",
    "    c = []\n",
    "    for i in range(len(b)):\n",
    "        c.append(sum([A[i][j] * b[j] for j in range(len(b))]))\n",
    "    return(c)\n",
    "\n",
    "def triDiag1(n):\n",
    "    A = [[0 for j in range(n)] for i in range(n)]\n",
    "    A[0][0] = 2\n",
    "    for i in range(1,n):\n",
    "        A[i][i] = 2\n",
    "        A[i-1][i] = 1\n",
    "        A[i][i-1] = 1\n",
    "    \n",
    "    return A"
   ]
  },
  {
   "cell_type": "markdown",
   "metadata": {},
   "source": [
    "Jacobi iteration: $$x_i^{(k+1)} = \\frac{b_i - \\sum_{j \\neq i} a_{ij} x_j^{(k)}}{a_{ii}}$$"
   ]
  },
  {
   "cell_type": "code",
   "execution_count": 61,
   "metadata": {},
   "outputs": [],
   "source": [
    "def jacobiIteration(x_k,A,b):\n",
    "    x_k1 = []\n",
    "    for i in range(len(x_k)):\n",
    "        C = sum([A[i][j] * x_k[j] for j in range(i)]) + sum([A[i][j] * x_k[j] for j in range(i+1,len(b))])\n",
    "        x_k1.append((b[i] - C)/A[i][i])\n",
    "    return(x_k1)\n",
    "\n",
    "        "
   ]
  },
  {
   "cell_type": "markdown",
   "metadata": {},
   "source": [
    "Gauss Seidel iteration: $$x_i^{(k+1)}=\\frac{b_i-\\sum_{j<i}a_{ij}x_j^{(k+1)}-\\sum_{j>i}a_{ij}x_j^{(k)}}{a_{ii}}$$"
   ]
  },
  {
   "cell_type": "code",
   "execution_count": 64,
   "metadata": {},
   "outputs": [],
   "source": [
    "def GaussSeidelIt(x_k,A,b):\n",
    "    x_k1 = []\n",
    "    for i in range(len(x_k)):\n",
    "        C= sum([A[i][j]*x_k1[j] for j in range(i)])\n",
    "        D= sum([A[i][j]*x_k[j] for j in range(i+1,len(b))])\n",
    "        x_k1.append((b[i]-C-D)/A[i][i])\n",
    "    return(x_k1)\n",
    " "
   ]
  },
  {
   "cell_type": "markdown",
   "metadata": {},
   "source": [
    "Let's define now a function to test the convergence of the iterative smoothers"
   ]
  },
  {
   "cell_type": "code",
   "execution_count": 59,
   "metadata": {},
   "outputs": [],
   "source": [
    "def test(A,b,xi,iteration,niter,xe,titolo):\n",
    "    asse_x = [float(i) for i  in range(0,niter+1)]\n",
    "    asse_y = [sqrt(sum([(xi[j]-xe[j])**2 for j in range(len(xe))]))]\n",
    "\n",
    "    \n",
    "    for i in range(niter):\n",
    "        xi = iteration(xi,A,b)\n",
    "        norm = sqrt(sum([(xi[j]-xe[j])**2 for j in range(len(xe))]))\n",
    "        asse_y.append(norm)\n",
    "\n",
    "    plt.plot(asse_x,asse_y)\n",
    "    plt.title(titolo)\n",
    "    plt.xlabel(\"Iterations\")\n",
    "    plt.ylabel(\"|| e^k ||\")\n",
    "    plt.grid()\n",
    "    plt.show()"
   ]
  },
  {
   "cell_type": "markdown",
   "metadata": {},
   "source": [
    "Since $\\{e^{i2k\\pi}\\}_{k\\in \\mathbb{N}}$ is a complete base, we can write every $x^{(k)}$ as a linear combination of different frequency base elements, so now we can easily study the speed of attenuation of different Fourier modes"
   ]
  },
  {
   "cell_type": "code",
   "execution_count": null,
   "metadata": {},
   "outputs": [],
   "source": [
    "#Let's create a list of lists [freq*n, niter] to do the tests easily\n",
    "testList = [[1,1000],\n",
    "            [2,250],\n",
    "            [3,75],\n",
    "            [4,30],\n",
    "            [30,30],\n",
    "            [50,30]]"
   ]
  },
  {
   "cell_type": "code",
   "execution_count": null,
   "metadata": {},
   "outputs": [],
   "source": [
    "n = 50\n",
    "A = triDiag1(n)\n",
    "xe = [1. for i in range(n)]     \n",
    "b = prod(A,xe)\n",
    "x0 = [0. for i in range(n)]     #frequency = 0\n",
    "test(A,b,x0,jacobiIteration,4000,xe,\"Jacobi - freq 0\")\n",
    "\n",
    "x0 = [0. for i in range(n)]     #frequency = 0\n",
    "test(A,b,x0,GaussSeidelIt,40,xe,\"Gauss Seidel - freq 0\")"
   ]
  },
  {
   "cell_type": "code",
   "execution_count": null,
   "metadata": {},
   "outputs": [],
   "source": [
    "for case in testList:\n",
    "    x0 = [sin(2*pi*i*case[0]/n) + 1 for i in range(n)]\n",
    "    test(A,b,x0,jacobiIteration,case[1],xe,\"Jacobi - freq \"+str(case[0])+\"/n\")"
   ]
  },
  {
   "cell_type": "code",
   "execution_count": null,
   "metadata": {},
   "outputs": [],
   "source": [
    "for case in testList:\n",
    "    x0 = [sin(2*pi*i*case[0]/n) + 1 for i in range(n)]\n",
    "    test(A,b,x0,GaussSeidelIt,case[1],xe,\"Gauss Seidel - freq \"+str(case[0])+\"/n\")"
   ]
  },
  {
   "cell_type": "code",
   "execution_count": 55,
   "metadata": {},
   "outputs": [],
   "source": [
    "def poissonMatrix(n):\n",
    "    size = n * (n-2) + 2 * (n - 2)\n",
    "    #matrix initialization\n",
    "    A = [[0 for j in range(size)] for i in range(size)]\n",
    "\n",
    "    #matrix rows corresponding to upper boundary conditions\n",
    "    for i in range(n-2):\n",
    "        A[i][i] = 1\n",
    "    \n",
    "    for i in range(n-2, size - (n-2)):\n",
    "        if ((i - (n-2)) % n == 0) or ((i - (n-2 + n - 1))%n==0):\n",
    "            A[i][i] = 1\n",
    "        else:\n",
    "            A[i][i] = 4\n",
    "            A[i][i-1] = -1\n",
    "            A[i][i+1] = -1\n",
    "            A[i][i - (n-1)] = -1\n",
    "            A[i][i + (n-1)] = -1\n",
    "\n",
    "    #for the lower boundary conditions\n",
    "    for i in range(size - (n-2), size):\n",
    "        A[i][i] = 1\n",
    "    \n",
    "    return A\n",
    "\n",
    "def testF(n,g,f):\n",
    "    out = []\n",
    "    for i in range(n-2):\n",
    "        out.append(g[i])\n",
    "\n",
    "    for i in range(n-2):\n",
    "        out.append(g[2*i + (n-2)])\n",
    "        for j in range(n-2):\n",
    "            out.append(f[i*(n-2) + j])\n",
    "        out.append(g[2*i + (n-2)+1])\n",
    "\n",
    "    for i in range(len(g) - (n-2), len(g)):\n",
    "        out.append(g[i])\n",
    "    \n",
    "    return out\n",
    "\n",
    "def formatSol(n,u):\n",
    "    out = []\n",
    "    temp = [0]\n",
    "\n",
    "\n",
    "    for i in range(n-2):\n",
    "        temp.append(u[i])\n",
    "    temp.append(0)\n",
    "\n",
    "    out.append(temp)\n",
    "\n",
    "    for i in range(n-2):\n",
    "        temp = []\n",
    "        for j in range((n-2)+(i*n),(n-2)+((i+1)*n)):\n",
    "            temp.append(u[j])\n",
    "        out.append(temp)\n",
    "\n",
    "    temp = [0]\n",
    "    for i in range(len(u)-(n-2),len(u)):\n",
    "        temp.append(u[i])\n",
    "    temp.append(0)\n",
    "    out.append(temp)\n",
    "\n",
    "    return out\n"
   ]
  },
  {
   "cell_type": "code",
   "execution_count": 111,
   "metadata": {},
   "outputs": [
    {
     "data": {
      "image/png": "[encoded data removed]",
      "text/plain": [
       "<Figure size 432x288 with 1 Axes>"
      ]
     },
     "metadata": {
      "needs_background": "light"
     },
     "output_type": "display_data"
    },
    {
     "data": {
      "image/png": "[encoded data removed]",
      "text/plain": [
       "<Figure size 432x288 with 1 Axes>"
      ]
     },
     "metadata": {
      "needs_background": "light"
     },
     "output_type": "display_data"
    },
    {
     "name": "stderr",
     "output_type": "stream",
     "text": [
      "/tmp/ipykernel_3477/2238132931.py:34: MatplotlibDeprecationWarning: Calling gca() with keyword arguments was deprecated in Matplotlib 3.4. Starting two minor releases later, gca() will take no keyword arguments. The gca() function should only be used to get the current axes, or if no axes exist, create new axes with default keyword arguments. To create a new axes with non-default arguments, use plt.axes() or plt.subplot().\n",
      "  ax = fig.gca(projection='3d')\n"
     ]
    },
    {
     "data": {
      "image/png": "[encoded data removed]",
      "text/plain": [
       "<Figure size 432x288 with 2 Axes>"
      ]
     },
     "metadata": {
      "needs_background": "light"
     },
     "output_type": "display_data"
    }
   ],
   "source": [
    "N = 24\n",
    "mat = poissonMatrix(N)\n",
    "\n",
    "g = [0 for i in range((N-2) * 4)]\n",
    "fi = [0.5 for i in range((N-2) * (N-2))]\n",
    "#fi[int((N-2)/2)*(N-2)+int((N-2)/2)] = 0\n",
    "\n",
    "f = testF(N,g,fi)\n",
    "\n",
    "u0 = [0 for i in range(len(mat))]\n",
    "\n",
    "sol = formatSol(N,u0)\n",
    "\n",
    "s0 = np.matrix(sol)\n",
    "plt.imshow(s0)\n",
    "plt.show()\n",
    "\n",
    "niter = 100\n",
    "for i in range(niter):\n",
    "    u0 = GaussSeidelIt(u0,mat,f)\n",
    "\n",
    "sol = formatSol(N,u0)\n",
    "\n",
    "s1 = np.matrix(sol)\n",
    "plt.imshow(s1)\n",
    "plt.show()\n",
    "\n",
    "X = np.arange(1,N+1)\n",
    "Y = np.arange(1,N+1)\n",
    "\n",
    "X,Y = np.meshgrid(X,Y)\n",
    "\n",
    "fig = plt.figure()\n",
    "ax = fig.gca(projection='3d')\n",
    "surf = ax.plot_surface(X,Y,s1)\n",
    "fig.colorbar(surf, shrink=0.5, aspect=5)\n",
    "plt.show()"
   ]
  },
  {
   "cell_type": "code",
   "execution_count": null,
   "metadata": {},
   "outputs": [],
   "source": []
  },
  {
   "cell_type": "code",
   "execution_count": null,
   "metadata": {},
   "outputs": [],
   "source": []
  }
 ],
 "metadata": {
  "kernelspec": {
   "display_name": "Python 3",
   "language": "python",
   "name": "python3"
  },
  "language_info": {
   "codemirror_mode": {
    "name": "ipython",
    "version": 3
   },
   "file_extension": ".py",
   "mimetype": "text/x-python",
   "name": "python",
   "nbconvert_exporter": "python",
   "pygments_lexer": "ipython3",
   "version": "3.10.12"
  }
 },
 "nbformat": 4,
 "nbformat_minor": 2
}
