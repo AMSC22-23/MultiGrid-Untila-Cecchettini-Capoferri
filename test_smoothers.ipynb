{
 "cells": [
  {
   "cell_type": "code",
   "execution_count": 5,
   "metadata": {},
   "outputs": [],
   "source": [
    "import matplotlib.pyplot as plt\n",
    "import matplotlib.animation as animation\n",
    "from math import *"
   ]
  },
  {
   "cell_type": "code",
   "execution_count": 6,
   "metadata": {},
   "outputs": [],
   "source": [
    "def prod(A,b):\n",
    "    c = []\n",
    "    for i in range(len(b)):\n",
    "        c.append(sum([A[i][j] * b[j] for j in range(len(b))]))\n",
    "    return(c)\n",
    "\n",
    "def jacobiIteration(x_k,A,b):\n",
    "    x_k1 = []\n",
    "    for i in range(len(x_k)):\n",
    "        C = sum([A[i][j] * x_k[j] for j in range(i)]) + sum([A[i][j] * x_k[j] for j in range(i+1,len(b))])\n",
    "        x_k1.append((b[i] - C)/A[i][i])\n",
    "    return(x_k1)\n",
    "\n",
    "        "
   ]
  },
  {
   "cell_type": "code",
   "execution_count": 7,
   "metadata": {},
   "outputs": [],
   "source": [
    "def test(A,b,xi,iteration,niter,xe,titolo):\n",
    "    asse_x = [float(i) for i  in range(0,niter+1)]\n",
    "    asse_y = [sqrt(sum([(xi[j]-xe[j])**2 for j in range(len(xe))]))]\n",
    "\n",
    "    \n",
    "    for i in range(niter):\n",
    "        xi = iteration(xi,A,b)\n",
    "        norm = sqrt(sum([(xi[j]-xe[j])**2 for j in range(len(xe))]))\n",
    "        asse_y.append(norm)\n",
    "\n",
    "    plt.plot(asse_x,asse_y)\n",
    "    plt.title(titolo)\n",
    "    plt.xlabel(\"Iterations\")\n",
    "    plt.ylabel(\"|| e^k ||\")\n",
    "    plt.grid()\n",
    "    plt.show()"
   ]
  },
  {
   "cell_type": "code",
   "execution_count": 8,
   "metadata": {},
   "outputs": [],
   "source": [
    "def triDiag1(n):\n",
    "    A = [[0 for j in range(n)] for i in range(n)]\n",
    "    A[0][0] = 2\n",
    "    for i in range(1,n):\n",
    "        A[i][i] = 2\n",
    "        A[i-1][i] = 1\n",
    "        A[i][i-1] = 1\n",
    "    \n",
    "    return A"
   ]
  },
  {
   "cell_type": "code",
   "execution_count": 9,
   "metadata": {},
   "outputs": [
    {
     "data": {
      "image/png": "[encoded data removed]",
      "text/plain": [
       "<Figure size 432x288 with 1 Axes>"
      ]
     },
     "metadata": {
      "needs_background": "light"
     },
     "output_type": "display_data"
    }
   ],
   "source": [
    "n = 50\n",
    "A = triDiag1(n)\n",
    "xe = [1. for i in range(n)]\n",
    "b = prod(A,xe)\n",
    "x0 = [0. for i in range(n)]\n",
    "test(A,b,x0,jacobiIteration,4000,xe,\"Jacobi\")"
   ]
  },
  {
   "cell_type": "code",
   "execution_count": null,
   "metadata": {},
   "outputs": [],
   "source": []
  }
 ],
 "metadata": {
  "kernelspec": {
   "display_name": "Python 3",
   "language": "python",
   "name": "python3"
  },
  "language_info": {
   "codemirror_mode": {
    "name": "ipython",
    "version": 3
   },
   "file_extension": ".py",
   "mimetype": "text/x-python",
   "name": "python",
   "nbconvert_exporter": "python",
   "pygments_lexer": "ipython3",
   "version": "3.10.12"
  }
 },
 "nbformat": 4,
 "nbformat_minor": 2
}
