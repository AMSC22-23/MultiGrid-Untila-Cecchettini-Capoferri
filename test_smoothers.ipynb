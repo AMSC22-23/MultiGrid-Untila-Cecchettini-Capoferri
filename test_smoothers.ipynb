{
 "cells": [
  {
   "cell_type": "code",
   "execution_count": 67,
   "metadata": {},
   "outputs": [],
   "source": [
    "import matplotlib.pyplot as plt\n",
    "import matplotlib.animation as animation\n",
    "from math import *\n",
    "import numpy as np"
   ]
  },
  {
   "cell_type": "markdown",
   "metadata": {},
   "source": [
    "We can now define some useful functions"
   ]
  },
  {
   "cell_type": "code",
   "execution_count": null,
   "metadata": {},
   "outputs": [],
   "source": [
    "def prod(A,b):\n",
    "    c = []\n",
    "    for i in range(len(b)):\n",
    "        c.append(sum([A[i][j] * b[j] for j in range(len(b))]))\n",
    "    return(c)\n",
    "\n",
    "def triDiag1(n):\n",
    "    A = [[0 for j in range(n)] for i in range(n)]\n",
    "    A[0][0] = 2\n",
    "    for i in range(1,n):\n",
    "        A[i][i] = 2\n",
    "        A[i-1][i] = 1\n",
    "        A[i][i-1] = 1\n",
    "    \n",
    "    return A"
   ]
  },
  {
   "cell_type": "markdown",
   "metadata": {},
   "source": [
    "Jacobi iteration: $$x_i^{(k+1)} = \\frac{b_i - \\sum_{j \\neq i} a_{ij} x_j^{(k)}}{a_{ii}}$$"
   ]
  },
  {
   "cell_type": "code",
   "execution_count": 61,
   "metadata": {},
   "outputs": [],
   "source": [
    "def jacobiIteration(x_k,A,b):\n",
    "    x_k1 = []\n",
    "    for i in range(len(x_k)):\n",
    "        C = sum([A[i][j] * x_k[j] for j in range(i)]) + sum([A[i][j] * x_k[j] for j in range(i+1,len(b))])\n",
    "        x_k1.append((b[i] - C)/A[i][i])\n",
    "    return(x_k1)\n",
    "\n",
    "        "
   ]
  },
  {
   "cell_type": "markdown",
   "metadata": {},
   "source": [
    "Gauss Seidel iteration: $$x_i^{(k+1)}=\\frac{b_i-\\sum_{j<i}a_{ij}x_j^{(k+1)}-\\sum_{j>i}a_{ij}x_j^{(k)}}{a_{ii}}$$"
   ]
  },
  {
   "cell_type": "code",
   "execution_count": 64,
   "metadata": {},
   "outputs": [],
   "source": [
    "def GaussSeidelIt(x_k,A,b):\n",
    "    x_k1 = []\n",
    "    for i in range(len(x_k)):\n",
    "        C= sum([A[i][j]*x_k1[j] for j in range(i)])\n",
    "        D= sum([A[i][j]*x_k[j] for j in range(i+1,len(b))])\n",
    "        x_k1.append((b[i]-C-D)/A[i][i])\n",
    "    return(x_k1)\n",
    " "
   ]
  },
  {
   "cell_type": "markdown",
   "metadata": {},
   "source": [
    "Let's define now a function to test the convergence of the iterative smoothers"
   ]
  },
  {
   "cell_type": "code",
   "execution_count": 59,
   "metadata": {},
   "outputs": [],
   "source": [
    "def test(A,b,xi,iteration,niter,xe,titolo):\n",
    "    asse_x = [float(i) for i  in range(0,niter+1)]\n",
    "    asse_y = [sqrt(sum([(xi[j]-xe[j])**2 for j in range(len(xe))]))]\n",
    "\n",
    "    \n",
    "    for i in range(niter):\n",
    "        xi = iteration(xi,A,b)\n",
    "        norm = sqrt(sum([(xi[j]-xe[j])**2 for j in range(len(xe))]))\n",
    "        asse_y.append(norm)\n",
    "\n",
    "    plt.plot(asse_x,asse_y)\n",
    "    plt.title(titolo)\n",
    "    plt.xlabel(\"Iterations\")\n",
    "    plt.ylabel(\"|| e^k ||\")\n",
    "    plt.grid()\n",
    "    plt.show()"
   ]
  },
  {
   "cell_type": "markdown",
   "metadata": {},
   "source": [
    "Since $\\{e^{i2k\\pi}\\}_{k\\in \\mathbb{N}}$ is a complete base, we can write every $x^{(k)}$ as a linear combination of different frequency base elements, so now we can easily study the speed of attenuation of different Fourier modes"
   ]
  },
  {
   "cell_type": "code",
   "execution_count": null,
   "metadata": {},
   "outputs": [],
   "source": [
    "#Let's create a list of lists [freq*n, niter] to do the tests easily\n",
    "testList = [[1,1000],\n",
    "            [2,250],\n",
    "            [3,75],\n",
    "            [4,30],\n",
    "            [30,30],\n",
    "            [50,30]]"
   ]
  },
  {
   "cell_type": "code",
   "execution_count": null,
   "metadata": {},
   "outputs": [],
   "source": [
    "n = 50\n",
    "A = triDiag1(n)\n",
    "xe = [1. for i in range(n)]     \n",
    "b = prod(A,xe)\n",
    "x0 = [0. for i in range(n)]     #frequency = 0\n",
    "test(A,b,x0,jacobiIteration,4000,xe,\"Jacobi - freq 0\")\n",
    "\n",
    "x0 = [0. for i in range(n)]     #frequency = 0\n",
    "test(A,b,x0,GaussSeidelIt,40,xe,\"Gauss Seidel - freq 0\")"
   ]
  },
  {
   "cell_type": "code",
   "execution_count": null,
   "metadata": {},
   "outputs": [],
   "source": [
    "for case in testList:\n",
    "    x0 = [sin(2*pi*i*case[0]/n) + 1 for i in range(n)]\n",
    "    test(A,b,x0,jacobiIteration,case[1],xe,\"Jacobi - freq \"+str(case[0])+\"/n\")"
   ]
  },
  {
   "cell_type": "code",
   "execution_count": null,
   "metadata": {},
   "outputs": [],
   "source": [
    "for case in testList:\n",
    "    x0 = [sin(2*pi*i*case[0]/n) + 1 for i in range(n)]\n",
    "    test(A,b,x0,GaussSeidelIt,case[1],xe,\"Gauss Seidel - freq \"+str(case[0])+\"/n\")"
   ]
  },
  {
   "cell_type": "code",
   "execution_count": null,
   "metadata": {},
   "outputs": [],
   "source": []
  }
 ],
 "metadata": {
  "kernelspec": {
   "display_name": "Python 3",
   "language": "python",
   "name": "python3"
  },
  "language_info": {
   "codemirror_mode": {
    "name": "ipython",
    "version": 3
   },
   "file_extension": ".py",
   "mimetype": "text/x-python",
   "name": "python",
   "nbconvert_exporter": "python",
   "pygments_lexer": "ipython3",
   "version": "3.10.12"
  }
 },
 "nbformat": 4,
 "nbformat_minor": 2
}
