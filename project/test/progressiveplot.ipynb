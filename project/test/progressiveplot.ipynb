{
 "cells": [
  {
   "cell_type": "code",
   "execution_count": null,
   "metadata": {},
   "outputs": [],
   "source": [
    "import matplotlib.pyplot as plt\n",
    "import numpy as np\n",
    "from os import listdir\n",
    "import math"
   ]
  },
  {
   "cell_type": "code",
   "execution_count": null,
   "metadata": {},
   "outputs": [],
   "source": [
    "def vectorFromFile(fileName):\n",
    "    with open(fileName,'r') as file:\n",
    "        content = file.readlines()\n",
    "    n = int(content[0])\n",
    "    f = []\n",
    "    for i in range(n):\n",
    "        f.append(float(content[i+1]))\n",
    "    return np.array(f)\n",
    "\n",
    "\n",
    "def formatSol(n,u):\n",
    "    out = []\n",
    "    temp = []\n",
    "\n",
    "    for i in range(n):\n",
    "        for j in range(n):\n",
    "            temp.append(u[i*n+j])\n",
    "        out.append(temp)\n",
    "        temp = []\n",
    "\n",
    "    return np.matrix(out)\n",
    "\n",
    "def plotSol(fileName):\n",
    "    \n",
    "    vecSol = vectorFromFile(fileName)\n",
    "    N = int(math.sqrt(len(vecSol)))\n",
    "    mat = formatSol(N,vecSol)\n",
    "\n",
    "    plt.imshow(mat,cmap='viridis')\n",
    "    plt.show()\n",
    "\n",
    "def plot3dSol(fileName):\n",
    "    vecSol = vectorFromFile(fileName)\n",
    "    N = int(math.sqrt(len(vecSol)))\n",
    "    mat = formatSol(N,vecSol)\n",
    "\n",
    "    X = np.arange(0,N)\n",
    "    Y = np.arange(0,N)\n",
    "\n",
    "    X,Y = np.meshgrid(X,Y)\n",
    "\n",
    "    fig = plt.figure()\n",
    "    ax = fig.add_subplot(projection='3d')\n",
    "    ax.set_zlim([0,3.5])\n",
    "    surf = ax.plot_surface(X,Y,mat,cmap = 'viridis')\n",
    "    #fig.colorbar(surf, shrink=0.5, aspect=5)\n",
    "    plt.show()"
   ]
  },
  {
   "cell_type": "code",
   "execution_count": null,
   "metadata": {},
   "outputs": [],
   "source": [
    "folder = './output/'\n",
    "lista = list(listdir(folder))\n",
    "print(len(lista))"
   ]
  },
  {
   "cell_type": "code",
   "execution_count": null,
   "metadata": {},
   "outputs": [],
   "source": [
    "plt.rcParams['figure.figsize'] = [10,10]\n",
    "for i in range(len(lista)):\n",
    "    file = folder + str(i) + '.mtx'\n",
    "    plot3dSol(file)\n",
    "\n"
   ]
  },
  {
   "cell_type": "code",
   "execution_count": null,
   "metadata": {},
   "outputs": [],
   "source": []
  },
  {
   "cell_type": "code",
   "execution_count": null,
   "metadata": {},
   "outputs": [],
   "source": []
  }
 ],
 "metadata": {
  "kernelspec": {
   "display_name": "Python 3",
   "language": "python",
   "name": "python3"
  },
  "language_info": {
   "codemirror_mode": {
    "name": "ipython",
    "version": 3
   },
   "file_extension": ".py",
   "mimetype": "text/x-python",
   "name": "python",
   "nbconvert_exporter": "python",
   "pygments_lexer": "ipython3",
   "version": "3.10.12"
  }
 },
 "nbformat": 4,
 "nbformat_minor": 2
}
