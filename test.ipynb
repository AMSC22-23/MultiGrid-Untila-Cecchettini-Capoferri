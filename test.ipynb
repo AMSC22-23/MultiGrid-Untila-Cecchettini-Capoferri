{
 "cells": [
  {
   "cell_type": "code",
   "execution_count": 49,
   "metadata": {},
   "outputs": [],
   "source": [
    "import matplotlib.pyplot as plt\n",
    "from math import *"
   ]
  },
  {
   "cell_type": "code",
   "execution_count": null,
   "metadata": {},
   "outputs": [],
   "source": [
    "\n"
   ]
  },
  {
   "cell_type": "code",
   "execution_count": 50,
   "metadata": {},
   "outputs": [],
   "source": [
    "def prod(A,b):\n",
    "    c = []\n",
    "    for i in range(len(b)):\n",
    "        c.append(sum([A[i][j] * b[j] for j in range(len(b))]))\n",
    "    return(c)\n",
    "\n",
    "def jacobiIteration(x_k,A,b):\n",
    "    x_k1 = []\n",
    "    for i in range(len(x_k)):\n",
    "        C = sum([A[i][j] * x_k[j] for j in range(i)]) + sum([A[i][j] * x_k[j] for j in range(i+1,len(b))])\n",
    "        x_k1.append((b[i] - C)/A[i][i])\n",
    "    return(x_k1)\n",
    "\n",
    "        "
   ]
  },
  {
   "cell_type": "code",
   "execution_count": 51,
   "metadata": {},
   "outputs": [
    {
     "name": "stdout",
     "output_type": "stream",
     "text": [
      "[102.0, 104.0, 102.0]\n"
     ]
    }
   ],
   "source": [
    "b = prod(A,xe)\n",
    "print(b)"
   ]
  },
  {
   "cell_type": "code",
   "execution_count": 54,
   "metadata": {},
   "outputs": [],
   "source": [
    "def test(A,b,xi,iteration,niter,xe,titolo):\n",
    "    asse_x = [float(i) for i  in range(1,niter+1)]\n",
    "    asse_y = []\n",
    "    \n",
    "    for i in asse_x:\n",
    "        xi = iteration(xi,A,b)\n",
    "        norm = sqrt(sum([(xi[j]-xe[j])**2 for j in range(len(xe))]))\n",
    "        asse_y.append(norm)\n",
    "        print(xi)\n",
    "    \n",
    "    plt.plot(asse_x,asse_y)\n",
    "    plt.title(titolo)\n",
    "    plt.xlabel(\"Iterations\")\n",
    "    plt.ylabel(\"|| e^k ||\")\n",
    "    plt.grid()\n",
    "    plt.show()\n"
   ]
  },
  {
   "cell_type": "code",
   "execution_count": 55,
   "metadata": {},
   "outputs": [
    {
     "name": "stdout",
     "output_type": "stream",
     "text": [
      "[4.02, 1.12, 2.02]\n",
      "[3.9976, 0.9992, 1.9975999999999998]\n",
      "[4.000016, 1.000096, 2.000016]\n",
      "[3.9999980799999997, 0.99999936, 1.9999980800000001]\n",
      "[4.0000000128, 1.0000000768, 2.0000000127999997]\n",
      "[3.999999998464, 0.999999999488, 1.9999999984639998]\n",
      "[4.00000000001024, 1.00000000006144, 2.0000000000102403]\n",
      "[3.999999999998771, 0.9999999999995904, 1.9999999999987714]\n",
      "[4.000000000000008, 1.000000000000049, 2.0000000000000084]\n",
      "[3.9999999999999987, 0.9999999999999997, 1.9999999999999991]\n"
     ]
    },
    {
     "data": {
      "image/png": "[encoded data removed]",
      "text/plain": [
       "<Figure size 432x288 with 1 Axes>"
      ]
     },
     "metadata": {
      "needs_background": "light"
     },
     "output_type": "display_data"
    }
   ],
   "source": [
    "A = [[100.,2.,0.],[2.,100.,2.],[0.,2.,100.]]\n",
    "xe = [4.,1.,2.]\n",
    "b = prod(A,xe)\n",
    "x0 = [0,0,0]\n",
    "test(A,b,x0,jacobiIteration,10,xe,\"Jacobi\")"
   ]
  },
  {
   "cell_type": "code",
   "execution_count": null,
   "metadata": {},
   "outputs": [],
   "source": []
  }
 ],
 "metadata": {
  "kernelspec": {
   "display_name": "Python 3",
   "language": "python",
   "name": "python3"
  },
  "language_info": {
   "codemirror_mode": {
    "name": "ipython",
    "version": 3
   },
   "file_extension": ".py",
   "mimetype": "text/x-python",
   "name": "python",
   "nbconvert_exporter": "python",
   "pygments_lexer": "ipython3",
   "version": "3.10.12"
  }
 },
 "nbformat": 4,
 "nbformat_minor": 2
}
