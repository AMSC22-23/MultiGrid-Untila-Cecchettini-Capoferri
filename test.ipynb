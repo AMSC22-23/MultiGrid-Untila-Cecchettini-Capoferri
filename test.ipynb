{
 "cells": [
  {
   "cell_type": "code",
   "execution_count": 3,
   "metadata": {},
   "outputs": [],
   "source": [
    "import matplotlib.pyplot as plt"
   ]
  },
  {
   "cell_type": "code",
   "execution_count": 39,
   "metadata": {},
   "outputs": [
    {
     "name": "stdout",
     "output_type": "stream",
     "text": [
      "[1.0, 0.0, 0.0]\n",
      "[0.0, 1.0, 0.0]\n",
      "[0.0, 0.0, 1.0]\n"
     ]
    }
   ],
   "source": [
    "A = [[100.,2.,0.],[2.,100.,2.],[0.,2.,100.]]\n",
    "I = [[1.,0.,0.], [0.,1.,0.], [0.,0.,1.]]\n",
    "xe = [1.,1.,1.]\n",
    "for riga in I:\n",
    "    print(riga)\n"
   ]
  },
  {
   "cell_type": "code",
   "execution_count": 36,
   "metadata": {},
   "outputs": [],
   "source": [
    "def prod(A,b):\n",
    "    c = []\n",
    "    for i in range(len(b)):\n",
    "        c.append(sum([A[i][j] * b[j] for j in range(len(b))]))\n",
    "    return(c)\n",
    "\n",
    "def jacobiIteration(x_k,A,b):\n",
    "    x_k1 = []\n",
    "    for i in range(len(x_k)):\n",
    "        C = sum([A[i][j] * x_k[j] for j in range(i)]) + sum([A[i][j] * x_k[j] for j in range(i+1,len(b))])\n",
    "        x_k1.append((b[i] - C)/A[i][i])\n",
    "    return(x_k1)\n",
    "\n",
    "        "
   ]
  },
  {
   "cell_type": "code",
   "execution_count": 40,
   "metadata": {},
   "outputs": [
    {
     "name": "stdout",
     "output_type": "stream",
     "text": [
      "[102.0, 104.0, 102.0]\n"
     ]
    }
   ],
   "source": [
    "b = prod(A,xe)\n",
    "print(b)"
   ]
  },
  {
   "cell_type": "code",
   "execution_count": 43,
   "metadata": {},
   "outputs": [
    {
     "name": "stdout",
     "output_type": "stream",
     "text": [
      "[1.02, 1.04, 1.02]\n",
      "[0.9992, 0.9992, 0.9992]\n"
     ]
    }
   ],
   "source": [
    "x0 = [0,0,0]\n",
    "x1 = jacobiIteration(x0,A,b)\n",
    "x2 = jacobiIteration(x1,A,b)\n",
    "print(x1)\n",
    "print(x2)"
   ]
  },
  {
   "cell_type": "code",
   "execution_count": 5,
   "metadata": {},
   "outputs": [
    {
     "data": {
      "image/png": "[encoded data removed]",
      "text/plain": [
       "<Figure size 432x288 with 1 Axes>"
      ]
     },
     "metadata": {
      "needs_background": "light"
     },
     "output_type": "display_data"
    }
   ],
   "source": [
    "y = [1,4,2,5]\n",
    "x = [1,2,3,4]\n",
    "\n",
    "plt.plot(x,y)\n",
    "plt.title(\"Grafico\")\n",
    "plt.xlabel(\"Asse X\")\n",
    "plt.ylabel(\"Asse Y\")\n",
    "plt.show()"
   ]
  },
  {
   "cell_type": "code",
   "execution_count": null,
   "metadata": {},
   "outputs": [],
   "source": []
  }
 ],
 "metadata": {
  "kernelspec": {
   "display_name": "Python 3",
   "language": "python",
   "name": "python3"
  },
  "language_info": {
   "codemirror_mode": {
    "name": "ipython",
    "version": 3
   },
   "file_extension": ".py",
   "mimetype": "text/x-python",
   "name": "python",
   "nbconvert_exporter": "python",
   "pygments_lexer": "ipython3",
   "version": "3.10.12"
  }
 },
 "nbformat": 4,
 "nbformat_minor": 2
}
