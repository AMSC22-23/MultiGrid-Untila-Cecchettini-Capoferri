{
 "cells": [
  {
   "cell_type": "code",
   "execution_count": 22,
   "metadata": {},
   "outputs": [],
   "source": [
    "import numpy as np\n",
    "import matplotlib.pyplot as plt"
   ]
  },
  {
   "cell_type": "code",
   "execution_count": 23,
   "metadata": {},
   "outputs": [],
   "source": [
    "def matrixFromFile(fileName):\n",
    "    with open(\"out.mtx\",'r') as file:\n",
    "        content = file.readlines()\n",
    "    \n",
    "    params = content[0].split()\n",
    "    rows = int(params[0])\n",
    "    cols = int(params[1])\n",
    "    n = int(params[2])\n",
    "\n",
    "    A = np.zeros((rows,cols))\n",
    "\n",
    "    content.pop(0)\n",
    "    for elemento in content:\n",
    "        params = elemento.split()\n",
    "        i = int(params[0])\n",
    "        j = int(params[1])\n",
    "        val = float(params[2])\n",
    "\n",
    "        A[i,j] = val\n",
    "\n",
    "    return A"
   ]
  },
  {
   "cell_type": "code",
   "execution_count": 36,
   "metadata": {},
   "outputs": [
    {
     "name": "stdout",
     "output_type": "stream",
     "text": [
      "Non zero entries = 100\n"
     ]
    }
   ],
   "source": [
    "N = 6\n",
    "!rm out.mtx\n",
    "!./prova {N}"
   ]
  },
  {
   "cell_type": "code",
   "execution_count": 37,
   "metadata": {},
   "outputs": [
    {
     "data": {
      "image/png": "[encoded data removed]",
      "text/plain": [
       "<Figure size 1152x648 with 1 Axes>"
      ]
     },
     "metadata": {
      "needs_background": "light"
     },
     "output_type": "display_data"
    }
   ],
   "source": [
    "mat = matrixFromFile('out.mtx')\n",
    "\n",
    "plt.rcParams['figure.figsize'] = [16,9]\n",
    "plt.imshow(mat)\n",
    "plt.show()"
   ]
  },
  {
   "cell_type": "code",
   "execution_count": null,
   "metadata": {},
   "outputs": [],
   "source": []
  }
 ],
 "metadata": {
  "kernelspec": {
   "display_name": "Python 3",
   "language": "python",
   "name": "python3"
  },
  "language_info": {
   "codemirror_mode": {
    "name": "ipython",
    "version": 3
   },
   "file_extension": ".py",
   "mimetype": "text/x-python",
   "name": "python",
   "nbconvert_exporter": "python",
   "pygments_lexer": "ipython3",
   "version": "3.10.12"
  }
 },
 "nbformat": 4,
 "nbformat_minor": 2
}
